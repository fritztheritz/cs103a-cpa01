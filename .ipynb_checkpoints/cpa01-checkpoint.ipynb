{
 "cells": [
  {
   "cell_type": "code",
   "execution_count": 1,
   "id": "d1e6031f-273d-46a9-be2a-ae67413c8310",
   "metadata": {},
   "outputs": [],
   "source": [
    "import numpy as np\n",
    "import pandas as pd\n",
    "import matplotlib.pyplot as plt"
   ]
  },
  {
   "cell_type": "markdown",
   "id": "67e8b743-92b9-4363-b2a4-92501d4879c0",
   "metadata": {},
   "source": [
    "<h1> Creative Programming Assignment 1 </h1>\n",
    "\n",
    "<h2> By Fritz Duverglas </h2>"
   ]
  },
  {
   "cell_type": "markdown",
   "id": "075a315f-cf8a-4665-a06e-41284c18e6f0",
   "metadata": {},
   "source": [
    "<h3> Description of dataset: </h3> This dataset is about the cost of insurance for around 1300 different people in the U.S. based on certain factors (age, sex, bmi, etc.)\n",
    "\n",
    "<h3> The link to the dataset: </h3> \n",
    "\n",
    "https://www.kaggle.com/mirichoi0218/insurance\n",
    "\n",
    "<h3>How to download the dataset: </h3> There is a download button on the right side of the page, but you need to create an account for Kaggle to actually download the csv file.\n",
    "\n",
    "<h3> Questions: </h3>\n",
    "\n",
    "1. Is there a correlation between region and how many children a person have and their insurance charges?\n",
    "2. Is there a correlation between insurance charges and bmi?"
   ]
  },
  {
   "cell_type": "markdown",
   "id": "2994a3e9-c2de-4853-931c-0141440cb9d1",
   "metadata": {},
   "source": [
    "<h1> Load Data Into Pandas Dataframe and Use Describe </h1>"
   ]
  },
  {
   "cell_type": "code",
   "execution_count": 2,
   "id": "05dc0f45-a7fa-4f24-83e2-3adc0433088d",
   "metadata": {},
   "outputs": [
    {
     "data": {
      "text/html": [
       "<div>\n",
       "<style scoped>\n",
       "    .dataframe tbody tr th:only-of-type {\n",
       "        vertical-align: middle;\n",
       "    }\n",
       "\n",
       "    .dataframe tbody tr th {\n",
       "        vertical-align: top;\n",
       "    }\n",
       "\n",
       "    .dataframe thead th {\n",
       "        text-align: right;\n",
       "    }\n",
       "</style>\n",
       "<table border=\"1\" class=\"dataframe\">\n",
       "  <thead>\n",
       "    <tr style=\"text-align: right;\">\n",
       "      <th></th>\n",
       "      <th>age</th>\n",
       "      <th>bmi</th>\n",
       "      <th>children</th>\n",
       "      <th>charges</th>\n",
       "    </tr>\n",
       "  </thead>\n",
       "  <tbody>\n",
       "    <tr>\n",
       "      <th>count</th>\n",
       "      <td>1338.000000</td>\n",
       "      <td>1338.000000</td>\n",
       "      <td>1338.000000</td>\n",
       "      <td>1338.000000</td>\n",
       "    </tr>\n",
       "    <tr>\n",
       "      <th>mean</th>\n",
       "      <td>39.207025</td>\n",
       "      <td>30.663397</td>\n",
       "      <td>1.094918</td>\n",
       "      <td>13270.422265</td>\n",
       "    </tr>\n",
       "    <tr>\n",
       "      <th>std</th>\n",
       "      <td>14.049960</td>\n",
       "      <td>6.098187</td>\n",
       "      <td>1.205493</td>\n",
       "      <td>12110.011237</td>\n",
       "    </tr>\n",
       "    <tr>\n",
       "      <th>min</th>\n",
       "      <td>18.000000</td>\n",
       "      <td>15.960000</td>\n",
       "      <td>0.000000</td>\n",
       "      <td>1121.873900</td>\n",
       "    </tr>\n",
       "    <tr>\n",
       "      <th>25%</th>\n",
       "      <td>27.000000</td>\n",
       "      <td>26.296250</td>\n",
       "      <td>0.000000</td>\n",
       "      <td>4740.287150</td>\n",
       "    </tr>\n",
       "    <tr>\n",
       "      <th>50%</th>\n",
       "      <td>39.000000</td>\n",
       "      <td>30.400000</td>\n",
       "      <td>1.000000</td>\n",
       "      <td>9382.033000</td>\n",
       "    </tr>\n",
       "    <tr>\n",
       "      <th>75%</th>\n",
       "      <td>51.000000</td>\n",
       "      <td>34.693750</td>\n",
       "      <td>2.000000</td>\n",
       "      <td>16639.912515</td>\n",
       "    </tr>\n",
       "    <tr>\n",
       "      <th>max</th>\n",
       "      <td>64.000000</td>\n",
       "      <td>53.130000</td>\n",
       "      <td>5.000000</td>\n",
       "      <td>63770.428010</td>\n",
       "    </tr>\n",
       "  </tbody>\n",
       "</table>\n",
       "</div>"
      ],
      "text/plain": [
       "               age          bmi     children       charges\n",
       "count  1338.000000  1338.000000  1338.000000   1338.000000\n",
       "mean     39.207025    30.663397     1.094918  13270.422265\n",
       "std      14.049960     6.098187     1.205493  12110.011237\n",
       "min      18.000000    15.960000     0.000000   1121.873900\n",
       "25%      27.000000    26.296250     0.000000   4740.287150\n",
       "50%      39.000000    30.400000     1.000000   9382.033000\n",
       "75%      51.000000    34.693750     2.000000  16639.912515\n",
       "max      64.000000    53.130000     5.000000  63770.428010"
      ]
     },
     "execution_count": 2,
     "metadata": {},
     "output_type": "execute_result"
    }
   ],
   "source": [
    "df = pd.read_csv('insurance.csv')\n",
    "df.describe()"
   ]
  },
  {
   "cell_type": "markdown",
   "id": "62e5f2d0-213f-4d86-914e-d0f5038c1d96",
   "metadata": {},
   "source": [
    "<h1> Print Column Array and Index Array </h1>"
   ]
  },
  {
   "cell_type": "code",
   "execution_count": 3,
   "id": "47d37940-40dd-4108-bf3b-92520b1bb619",
   "metadata": {},
   "outputs": [
    {
     "data": {
      "text/plain": [
       "['age', 'sex', 'bmi', 'children', 'smoker', 'region', 'charges']"
      ]
     },
     "execution_count": 3,
     "metadata": {},
     "output_type": "execute_result"
    }
   ],
   "source": [
    "list(df.columns)"
   ]
  },
  {
   "cell_type": "code",
   "execution_count": null,
   "id": "f84cfe36-99d4-41f0-a45b-58f369ee2482",
   "metadata": {},
   "outputs": [],
   "source": [
    "list(df.index)"
   ]
  },
  {
   "cell_type": "markdown",
   "id": "ec876eff-1a36-49a9-96cc-0817ed55cc96",
   "metadata": {},
   "source": [
    "<h1> Simple Plot on Part of Data </h1>"
   ]
  },
  {
   "cell_type": "code",
   "execution_count": null,
   "id": "1b50f7e1-7e37-4a4e-86be-fc353d40cb44",
   "metadata": {},
   "outputs": [],
   "source": [
    "df2 = df[df['age']==18]\n",
    "df2['charges'].plot()"
   ]
  },
  {
   "cell_type": "markdown",
   "id": "890af899-463f-4726-849d-46e00cec6d31",
   "metadata": {},
   "source": [
    "<h1> Pivot Table and Plot From Table </h1>"
   ]
  },
  {
   "cell_type": "code",
   "execution_count": null,
   "id": "78dbcb3a-591a-4131-8424-b00b237ed5d7",
   "metadata": {},
   "outputs": [],
   "source": [
    "column = 'charges'\n",
    "\n",
    "df2 = pd.pivot_table(df, values=column, index=[\"age\"], columns=[\"smoker\"])\n",
    "df2.head()"
   ]
  },
  {
   "cell_type": "code",
   "execution_count": null,
   "id": "46fd65c4-fb36-4d98-aebc-477cd36a7e84",
   "metadata": {},
   "outputs": [],
   "source": [
    "df2.plot(figsize=(15,10))\n",
    "plt.grid()\n",
    "plt.title('Changes in insurance charges based on age and if they smoke')\n",
    "plt.xlabel('Age')\n",
    "plt.ylabel('Insurance Charges')"
   ]
  },
  {
   "cell_type": "markdown",
   "id": "c96be877-0f08-4fe4-b73e-c08c700d8a84",
   "metadata": {},
   "source": [
    "<h1> Use Groupby Feature </h1>"
   ]
  },
  {
   "cell_type": "code",
   "execution_count": null,
   "id": "61f523b1-f8c9-4afd-80e9-10549cb22ee1",
   "metadata": {},
   "outputs": [],
   "source": [
    "dfgroup = df.groupby(['region'])['age'].plot(figsize=(15,10))"
   ]
  },
  {
   "cell_type": "markdown",
   "id": "37270c27-0b4d-4c7d-98bf-a7abb8b8add1",
   "metadata": {},
   "source": [
    "<h1> Question 1: </h1>\n",
    "\n",
    "Is there a correlation between region and how many children a person have and their insurance charges?"
   ]
  },
  {
   "cell_type": "code",
   "execution_count": null,
   "id": "ba5a2822-75bd-4dcd-a178-908ccbcf83b3",
   "metadata": {},
   "outputs": [],
   "source": [
    "column = 'charges'\n",
    "\n",
    "df2 = pd.pivot_table(df, values=column, index=[\"children\"], columns=[\"region\"])\n",
    "df2.plot(figsize=(15,10))\n",
    "plt.grid()\n",
    "plt.title('Changes in insurance charges based on number of children and region')\n",
    "plt.xlabel('# of children')\n",
    "plt.ylabel('Insurance Charges')"
   ]
  },
  {
   "cell_type": "markdown",
   "id": "2962e3c4-3869-4591-abc3-37455c74a119",
   "metadata": {},
   "source": [
    "<h1> Question 2: </h1>\n",
    "\n",
    "Is there a correlation between insurance charges and bmi?"
   ]
  },
  {
   "cell_type": "code",
   "execution_count": null,
   "id": "9113b580-f15c-4925-bfa3-572bf83384df",
   "metadata": {},
   "outputs": [],
   "source": [
    "column = 'charges'\n",
    "\n",
    "df2 = pd.pivot_table(df, values=column, index=[\"bmi\"])\n",
    "df2.plot(figsize=(15,10))\n",
    "plt.grid()\n",
    "plt.title('Changes in insurance charges based on bmi')\n",
    "plt.xlabel('BMI')\n",
    "plt.ylabel('Insurance Charges')"
   ]
  },
  {
   "cell_type": "markdown",
   "id": "eff7c822-57e4-4caa-97c7-17c643f84004",
   "metadata": {},
   "source": [
    "<h1> Discussion </h1>"
   ]
  },
  {
   "cell_type": "markdown",
   "id": "1f6e60b4-aa21-4739-b5a0-031a40385fb3",
   "metadata": {},
   "source": []
  }
 ],
 "metadata": {
  "kernelspec": {
   "display_name": "Python 3",
   "language": "python",
   "name": "python3"
  },
  "language_info": {
   "codemirror_mode": {
    "name": "ipython",
    "version": 3
   },
   "file_extension": ".py",
   "mimetype": "text/x-python",
   "name": "python",
   "nbconvert_exporter": "python",
   "pygments_lexer": "ipython3",
   "version": "3.8.8"
  }
 },
 "nbformat": 4,
 "nbformat_minor": 5
}
