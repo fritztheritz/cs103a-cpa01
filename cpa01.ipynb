{
 "cells": [
  {
   "cell_type": "code",
   "execution_count": 2,
   "id": "d1e6031f-273d-46a9-be2a-ae67413c8310",
   "metadata": {},
   "outputs": [],
   "source": [
    "import numpy as np\n",
    "import pandas as pd\n",
    "import matplotlib.pyplot as plt"
   ]
  },
  {
   "cell_type": "markdown",
   "id": "67e8b743-92b9-4363-b2a4-92501d4879c0",
   "metadata": {},
   "source": [
    "<h1> Creative Programming Assignment 1 </h1>"
   ]
  },
  {
   "cell_type": "markdown",
   "id": "075a315f-cf8a-4665-a06e-41284c18e6f0",
   "metadata": {},
   "source": [
    "<h3> Description of dataset: </h3> This dataset is about the cost of insurance based on certain factors (age, sex, bmi, etc.)\n",
    "\n",
    "<h3> The link to the dataset: </h3> \n",
    "\n",
    "https://www.kaggle.com/mirichoi0218/insurance\n",
    "\n",
    "<h3>How to download the dataset: </h3> There is a download button on the right side of the page, but you need to create an account for Kaggle to actually download the csv file.\n",
    "\n",
    "<h3> Questions: </h3>\n",
    "\n",
    "1. Is there a correlation between region and how many children a person have and their age?\n",
    "2. Is there a correlation between insurance charges and bmi?"
   ]
  },
  {
   "cell_type": "code",
   "execution_count": null,
   "id": "05dc0f45-a7fa-4f24-83e2-3adc0433088d",
   "metadata": {},
   "outputs": [],
   "source": []
  }
 ],
 "metadata": {
  "kernelspec": {
   "display_name": "Python 3",
   "language": "python",
   "name": "python3"
  },
  "language_info": {
   "codemirror_mode": {
    "name": "ipython",
    "version": 3
   },
   "file_extension": ".py",
   "mimetype": "text/x-python",
   "name": "python",
   "nbconvert_exporter": "python",
   "pygments_lexer": "ipython3",
   "version": "3.8.8"
  }
 },
 "nbformat": 4,
 "nbformat_minor": 5
}
