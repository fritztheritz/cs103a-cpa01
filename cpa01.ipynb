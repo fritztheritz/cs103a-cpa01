{
 "cells": [
  {
   "cell_type": "markdown",
   "id": "67e8b743-92b9-4363-b2a4-92501d4879c0",
   "metadata": {},
   "source": [
    "<h1> Creative Programming Assignment 1 </h1>"
   ]
  },
  {
   "cell_type": "code",
   "execution_count": null,
   "id": "d85a5fb7-90ff-4797-8fec-6bf9d1b3f31d",
   "metadata": {},
   "outputs": [],
   "source": []
  }
 ],
 "metadata": {
  "kernelspec": {
   "display_name": "Python 3",
   "language": "python",
   "name": "python3"
  },
  "language_info": {
   "codemirror_mode": {
    "name": "ipython",
    "version": 3
   },
   "file_extension": ".py",
   "mimetype": "text/x-python",
   "name": "python",
   "nbconvert_exporter": "python",
   "pygments_lexer": "ipython3",
   "version": "3.8.8"
  }
 },
 "nbformat": 4,
 "nbformat_minor": 5
}
